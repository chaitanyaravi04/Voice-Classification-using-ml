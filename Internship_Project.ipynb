{
  "nbformat": 4,
  "nbformat_minor": 0,
  "metadata": {
    "colab": {
      "provenance": [],
      "collapsed_sections": [],
      "authorship_tag": "ABX9TyPKdyxlCZ8OPCuW2ABcMk3j",
      "include_colab_link": true
    },
    "kernelspec": {
      "name": "python3",
      "display_name": "Python 3"
    },
    "language_info": {
      "name": "python"
    }
  },
  "cells": [
    {
      "cell_type": "markdown",
      "metadata": {
        "id": "view-in-github",
        "colab_type": "text"
      },
      "source": [
        "<a href=\"https://colab.research.google.com/github/chaitanyaravi04/Voice-Classification-using-ml/blob/main/Internship_Project.ipynb\" target=\"_parent\"><img src=\"https://colab.research.google.com/assets/colab-badge.svg\" alt=\"Open In Colab\"/></a>"
      ]
    },
    {
      "cell_type": "code",
      "source": [
        "from google.colab import drive\n",
        "drive.mount('/content/drive/')"
      ],
      "metadata": {
        "colab": {
          "base_uri": "https://localhost:8080/"
        },
        "id": "f_kNGWXP7TvP",
        "outputId": "61dd478c-ede7-41c9-cf50-4890a0b19255"
      },
      "execution_count": null,
      "outputs": [
        {
          "output_type": "stream",
          "name": "stdout",
          "text": [
            "Drive already mounted at /content/drive/; to attempt to forcibly remount, call drive.mount(\"/content/drive/\", force_remount=True).\n"
          ]
        }
      ]
    },
    {
      "cell_type": "code",
      "source": [
        "import pandas as pd\n",
        "df=pd.read_csv('/content/cleaned_emotion.csv')\n",
        "df.head()"
      ],
      "metadata": {
        "colab": {
          "base_uri": "https://localhost:8080/",
          "height": 317
        },
        "id": "z_5w7M11JUaG",
        "outputId": "de0c281d-f0c6-4477-c9ae-149b8fc62141"
      },
      "execution_count": null,
      "outputs": [
        {
          "output_type": "execute_result",
          "data": {
            "text/plain": [
              "   Unnamed: 0  Unnamed: 0.1  X  meanfreq        sd    median       Q25  \\\n",
              "0           0             1  1  0.181338  0.060495  0.187476  0.126197   \n",
              "1           1             2  2  0.186897  0.062260  0.195070  0.130847   \n",
              "2           2             3  3  0.189102  0.062901  0.204945  0.131422   \n",
              "3           4             5  5  0.183036  0.060051  0.174115  0.129949   \n",
              "4           5             6  6  0.168793  0.057910  0.156266  0.116783   \n",
              "\n",
              "        Q75       IQR      skew  ...  centroid   meanfun    minfun    maxfun  \\\n",
              "0  0.233586  0.107389  0.869088  ...  0.181338  0.137742  0.023022  0.271186   \n",
              "1  0.243987  0.113140  1.191767  ...  0.186897  0.121811  0.018412  0.271186   \n",
              "2  0.249978  0.118556  1.312690  ...  0.189102  0.123758  0.083333  0.262295   \n",
              "3  0.236967  0.107017  1.096409  ...  0.183036  0.128469  0.044693  0.258065   \n",
              "4  0.216326  0.099543  1.386837  ...  0.168793  0.109720  0.022472  0.235294   \n",
              "\n",
              "    meandom    mindom    maxdom   dfrange   modindx  label  \n",
              "0  0.777344  0.085938  6.226562  6.140625  0.116586    sad  \n",
              "1  0.930339  0.085938  4.000000  3.914062  0.144983    sad  \n",
              "2  0.332386  0.085938  0.625000  0.539062  0.334783    sad  \n",
              "3  1.012019  0.085938  5.468750  5.382812  0.304910    sad  \n",
              "4  0.228795  0.093750  0.750000  0.656250  0.306777    sad  \n",
              "\n",
              "[5 rows x 24 columns]"
            ],
            "text/html": [
              "\n",
              "  <div id=\"df-86a5168e-a851-4929-8cfc-4c10c80fce3e\">\n",
              "    <div class=\"colab-df-container\">\n",
              "      <div>\n",
              "<style scoped>\n",
              "    .dataframe tbody tr th:only-of-type {\n",
              "        vertical-align: middle;\n",
              "    }\n",
              "\n",
              "    .dataframe tbody tr th {\n",
              "        vertical-align: top;\n",
              "    }\n",
              "\n",
              "    .dataframe thead th {\n",
              "        text-align: right;\n",
              "    }\n",
              "</style>\n",
              "<table border=\"1\" class=\"dataframe\">\n",
              "  <thead>\n",
              "    <tr style=\"text-align: right;\">\n",
              "      <th></th>\n",
              "      <th>Unnamed: 0</th>\n",
              "      <th>Unnamed: 0.1</th>\n",
              "      <th>X</th>\n",
              "      <th>meanfreq</th>\n",
              "      <th>sd</th>\n",
              "      <th>median</th>\n",
              "      <th>Q25</th>\n",
              "      <th>Q75</th>\n",
              "      <th>IQR</th>\n",
              "      <th>skew</th>\n",
              "      <th>...</th>\n",
              "      <th>centroid</th>\n",
              "      <th>meanfun</th>\n",
              "      <th>minfun</th>\n",
              "      <th>maxfun</th>\n",
              "      <th>meandom</th>\n",
              "      <th>mindom</th>\n",
              "      <th>maxdom</th>\n",
              "      <th>dfrange</th>\n",
              "      <th>modindx</th>\n",
              "      <th>label</th>\n",
              "    </tr>\n",
              "  </thead>\n",
              "  <tbody>\n",
              "    <tr>\n",
              "      <th>0</th>\n",
              "      <td>0</td>\n",
              "      <td>1</td>\n",
              "      <td>1</td>\n",
              "      <td>0.181338</td>\n",
              "      <td>0.060495</td>\n",
              "      <td>0.187476</td>\n",
              "      <td>0.126197</td>\n",
              "      <td>0.233586</td>\n",
              "      <td>0.107389</td>\n",
              "      <td>0.869088</td>\n",
              "      <td>...</td>\n",
              "      <td>0.181338</td>\n",
              "      <td>0.137742</td>\n",
              "      <td>0.023022</td>\n",
              "      <td>0.271186</td>\n",
              "      <td>0.777344</td>\n",
              "      <td>0.085938</td>\n",
              "      <td>6.226562</td>\n",
              "      <td>6.140625</td>\n",
              "      <td>0.116586</td>\n",
              "      <td>sad</td>\n",
              "    </tr>\n",
              "    <tr>\n",
              "      <th>1</th>\n",
              "      <td>1</td>\n",
              "      <td>2</td>\n",
              "      <td>2</td>\n",
              "      <td>0.186897</td>\n",
              "      <td>0.062260</td>\n",
              "      <td>0.195070</td>\n",
              "      <td>0.130847</td>\n",
              "      <td>0.243987</td>\n",
              "      <td>0.113140</td>\n",
              "      <td>1.191767</td>\n",
              "      <td>...</td>\n",
              "      <td>0.186897</td>\n",
              "      <td>0.121811</td>\n",
              "      <td>0.018412</td>\n",
              "      <td>0.271186</td>\n",
              "      <td>0.930339</td>\n",
              "      <td>0.085938</td>\n",
              "      <td>4.000000</td>\n",
              "      <td>3.914062</td>\n",
              "      <td>0.144983</td>\n",
              "      <td>sad</td>\n",
              "    </tr>\n",
              "    <tr>\n",
              "      <th>2</th>\n",
              "      <td>2</td>\n",
              "      <td>3</td>\n",
              "      <td>3</td>\n",
              "      <td>0.189102</td>\n",
              "      <td>0.062901</td>\n",
              "      <td>0.204945</td>\n",
              "      <td>0.131422</td>\n",
              "      <td>0.249978</td>\n",
              "      <td>0.118556</td>\n",
              "      <td>1.312690</td>\n",
              "      <td>...</td>\n",
              "      <td>0.189102</td>\n",
              "      <td>0.123758</td>\n",
              "      <td>0.083333</td>\n",
              "      <td>0.262295</td>\n",
              "      <td>0.332386</td>\n",
              "      <td>0.085938</td>\n",
              "      <td>0.625000</td>\n",
              "      <td>0.539062</td>\n",
              "      <td>0.334783</td>\n",
              "      <td>sad</td>\n",
              "    </tr>\n",
              "    <tr>\n",
              "      <th>3</th>\n",
              "      <td>4</td>\n",
              "      <td>5</td>\n",
              "      <td>5</td>\n",
              "      <td>0.183036</td>\n",
              "      <td>0.060051</td>\n",
              "      <td>0.174115</td>\n",
              "      <td>0.129949</td>\n",
              "      <td>0.236967</td>\n",
              "      <td>0.107017</td>\n",
              "      <td>1.096409</td>\n",
              "      <td>...</td>\n",
              "      <td>0.183036</td>\n",
              "      <td>0.128469</td>\n",
              "      <td>0.044693</td>\n",
              "      <td>0.258065</td>\n",
              "      <td>1.012019</td>\n",
              "      <td>0.085938</td>\n",
              "      <td>5.468750</td>\n",
              "      <td>5.382812</td>\n",
              "      <td>0.304910</td>\n",
              "      <td>sad</td>\n",
              "    </tr>\n",
              "    <tr>\n",
              "      <th>4</th>\n",
              "      <td>5</td>\n",
              "      <td>6</td>\n",
              "      <td>6</td>\n",
              "      <td>0.168793</td>\n",
              "      <td>0.057910</td>\n",
              "      <td>0.156266</td>\n",
              "      <td>0.116783</td>\n",
              "      <td>0.216326</td>\n",
              "      <td>0.099543</td>\n",
              "      <td>1.386837</td>\n",
              "      <td>...</td>\n",
              "      <td>0.168793</td>\n",
              "      <td>0.109720</td>\n",
              "      <td>0.022472</td>\n",
              "      <td>0.235294</td>\n",
              "      <td>0.228795</td>\n",
              "      <td>0.093750</td>\n",
              "      <td>0.750000</td>\n",
              "      <td>0.656250</td>\n",
              "      <td>0.306777</td>\n",
              "      <td>sad</td>\n",
              "    </tr>\n",
              "  </tbody>\n",
              "</table>\n",
              "<p>5 rows × 24 columns</p>\n",
              "</div>\n",
              "      <button class=\"colab-df-convert\" onclick=\"convertToInteractive('df-86a5168e-a851-4929-8cfc-4c10c80fce3e')\"\n",
              "              title=\"Convert this dataframe to an interactive table.\"\n",
              "              style=\"display:none;\">\n",
              "        \n",
              "  <svg xmlns=\"http://www.w3.org/2000/svg\" height=\"24px\"viewBox=\"0 0 24 24\"\n",
              "       width=\"24px\">\n",
              "    <path d=\"M0 0h24v24H0V0z\" fill=\"none\"/>\n",
              "    <path d=\"M18.56 5.44l.94 2.06.94-2.06 2.06-.94-2.06-.94-.94-2.06-.94 2.06-2.06.94zm-11 1L8.5 8.5l.94-2.06 2.06-.94-2.06-.94L8.5 2.5l-.94 2.06-2.06.94zm10 10l.94 2.06.94-2.06 2.06-.94-2.06-.94-.94-2.06-.94 2.06-2.06.94z\"/><path d=\"M17.41 7.96l-1.37-1.37c-.4-.4-.92-.59-1.43-.59-.52 0-1.04.2-1.43.59L10.3 9.45l-7.72 7.72c-.78.78-.78 2.05 0 2.83L4 21.41c.39.39.9.59 1.41.59.51 0 1.02-.2 1.41-.59l7.78-7.78 2.81-2.81c.8-.78.8-2.07 0-2.86zM5.41 20L4 18.59l7.72-7.72 1.47 1.35L5.41 20z\"/>\n",
              "  </svg>\n",
              "      </button>\n",
              "      \n",
              "  <style>\n",
              "    .colab-df-container {\n",
              "      display:flex;\n",
              "      flex-wrap:wrap;\n",
              "      gap: 12px;\n",
              "    }\n",
              "\n",
              "    .colab-df-convert {\n",
              "      background-color: #E8F0FE;\n",
              "      border: none;\n",
              "      border-radius: 50%;\n",
              "      cursor: pointer;\n",
              "      display: none;\n",
              "      fill: #1967D2;\n",
              "      height: 32px;\n",
              "      padding: 0 0 0 0;\n",
              "      width: 32px;\n",
              "    }\n",
              "\n",
              "    .colab-df-convert:hover {\n",
              "      background-color: #E2EBFA;\n",
              "      box-shadow: 0px 1px 2px rgba(60, 64, 67, 0.3), 0px 1px 3px 1px rgba(60, 64, 67, 0.15);\n",
              "      fill: #174EA6;\n",
              "    }\n",
              "\n",
              "    [theme=dark] .colab-df-convert {\n",
              "      background-color: #3B4455;\n",
              "      fill: #D2E3FC;\n",
              "    }\n",
              "\n",
              "    [theme=dark] .colab-df-convert:hover {\n",
              "      background-color: #434B5C;\n",
              "      box-shadow: 0px 1px 3px 1px rgba(0, 0, 0, 0.15);\n",
              "      filter: drop-shadow(0px 1px 2px rgba(0, 0, 0, 0.3));\n",
              "      fill: #FFFFFF;\n",
              "    }\n",
              "  </style>\n",
              "\n",
              "      <script>\n",
              "        const buttonEl =\n",
              "          document.querySelector('#df-86a5168e-a851-4929-8cfc-4c10c80fce3e button.colab-df-convert');\n",
              "        buttonEl.style.display =\n",
              "          google.colab.kernel.accessAllowed ? 'block' : 'none';\n",
              "\n",
              "        async function convertToInteractive(key) {\n",
              "          const element = document.querySelector('#df-86a5168e-a851-4929-8cfc-4c10c80fce3e');\n",
              "          const dataTable =\n",
              "            await google.colab.kernel.invokeFunction('convertToInteractive',\n",
              "                                                     [key], {});\n",
              "          if (!dataTable) return;\n",
              "\n",
              "          const docLinkHtml = 'Like what you see? Visit the ' +\n",
              "            '<a target=\"_blank\" href=https://colab.research.google.com/notebooks/data_table.ipynb>data table notebook</a>'\n",
              "            + ' to learn more about interactive tables.';\n",
              "          element.innerHTML = '';\n",
              "          dataTable['output_type'] = 'display_data';\n",
              "          await google.colab.output.renderOutput(dataTable, element);\n",
              "          const docLink = document.createElement('div');\n",
              "          docLink.innerHTML = docLinkHtml;\n",
              "          element.appendChild(docLink);\n",
              "        }\n",
              "      </script>\n",
              "    </div>\n",
              "  </div>\n",
              "  "
            ]
          },
          "metadata": {},
          "execution_count": 62
        }
      ]
    },
    {
      "cell_type": "code",
      "source": [
        "from sklearn.model_selection import train_test_split\n",
        "from sklearn import preprocessing\n",
        "from sklearn.preprocessing import MinMaxScaler\n",
        "from sklearn.model_selection import cross_val_score\n",
        "from sklearn.svm import SVC\n",
        "from sklearn.tree import DecisionTreeClassifier\n",
        "from sklearn.ensemble import RandomForestClassifier\n",
        "from sklearn.ensemble import AdaBoostClassifier\n",
        "from sklearn.metrics import confusion_matrix,accuracy_score,recall_score,roc_curve,auc\n",
        "import pandas as pd\n",
        "import numpy as np\n",
        "from matplotlib import pyplot as plt\n",
        "import seaborn as sns\n"
      ],
      "metadata": {
        "id": "ORSKPe4h99_k"
      },
      "execution_count": null,
      "outputs": []
    },
    {
      "cell_type": "code",
      "source": [
        "df=df.drop([df.columns[0],df.columns[1],df.columns[2]],axis=1)\n",
        "df.columns\n"
      ],
      "metadata": {
        "colab": {
          "base_uri": "https://localhost:8080/"
        },
        "id": "DGsMQ8hjAsq9",
        "outputId": "98c2ef4c-48d6-494a-d6e4-8f60d1af918c"
      },
      "execution_count": null,
      "outputs": [
        {
          "output_type": "execute_result",
          "data": {
            "text/plain": [
              "Index(['meanfreq', 'sd', 'median', 'Q25', 'Q75', 'IQR', 'skew', 'kurt',\n",
              "       'sp.ent', 'sfm', 'mode', 'centroid', 'meanfun', 'minfun', 'maxfun',\n",
              "       'meandom', 'mindom', 'maxdom', 'dfrange', 'modindx', 'label'],\n",
              "      dtype='object')"
            ]
          },
          "metadata": {},
          "execution_count": 64
        }
      ]
    },
    {
      "cell_type": "code",
      "execution_count": null,
      "metadata": {
        "colab": {
          "base_uri": "https://localhost:8080/"
        },
        "id": "vOf3pvHrAQ62",
        "outputId": "d129c49b-6655-49ec-b47e-af86f2a67152"
      },
      "outputs": [
        {
          "output_type": "stream",
          "name": "stdout",
          "text": [
            "meanfreq    0\n",
            "sd          0\n",
            "median      0\n",
            "Q25         0\n",
            "Q75         0\n",
            "IQR         0\n",
            "skew        0\n",
            "kurt        0\n",
            "sp.ent      0\n",
            "sfm         0\n",
            "mode        0\n",
            "centroid    0\n",
            "meanfun     0\n",
            "minfun      0\n",
            "maxfun      0\n",
            "meandom     0\n",
            "mindom      0\n",
            "maxdom      0\n",
            "dfrange     0\n",
            "modindx     0\n",
            "label       0\n",
            "dtype: int64\n"
          ]
        }
      ],
      "source": [
        "print(df.isnull().sum())"
      ]
    },
    {
      "cell_type": "code",
      "execution_count": null,
      "metadata": {
        "colab": {
          "base_uri": "https://localhost:8080/"
        },
        "id": "PzrMJpZzAaZi",
        "outputId": "7e9e8e07-b33f-4540-8b6b-2566f6270689"
      },
      "outputs": [
        {
          "output_type": "execute_result",
          "data": {
            "text/plain": [
              "(909, 21)"
            ]
          },
          "metadata": {},
          "execution_count": 66
        }
      ],
      "source": [
        "df.shape\n"
      ]
    },
    {
      "cell_type": "code",
      "execution_count": null,
      "metadata": {
        "colab": {
          "base_uri": "https://localhost:8080/",
          "height": 364
        },
        "id": "QKjok2rvAeU0",
        "outputId": "3548e3d7-39d3-4810-c0c6-af4539196bf8"
      },
      "outputs": [
        {
          "output_type": "execute_result",
          "data": {
            "text/plain": [
              "         meanfreq          sd      median         Q25         Q75         IQR  \\\n",
              "count  909.000000  909.000000  909.000000  909.000000  909.000000  909.000000   \n",
              "mean     0.206170    0.051275    0.212524    0.177508    0.244574    0.067065   \n",
              "std      0.023133    0.014841    0.027557    0.038010    0.017223    0.029831   \n",
              "min      0.138892    0.024114    0.139472    0.046111    0.193367    0.020098   \n",
              "25%      0.185884    0.037961    0.191591    0.146098    0.232371    0.042470   \n",
              "50%      0.207456    0.049979    0.216077    0.184609    0.245731    0.057073   \n",
              "75%      0.226357    0.062497    0.233591    0.211461    0.259418    0.092380   \n",
              "max      0.250264    0.100239    0.264487    0.250455    0.274048    0.173421   \n",
              "\n",
              "             skew        kurt      sp.ent         sfm        mode    centroid  \\\n",
              "count  909.000000  909.000000  909.000000  909.000000  909.000000  909.000000   \n",
              "mean     2.095407    8.336008    0.884311    0.298569    0.220830    0.206170   \n",
              "std      0.614903    3.511599    0.036912    0.134277    0.047916    0.023133   \n",
              "min      0.681156    2.657216    0.783243    0.074134    0.084523    0.138892   \n",
              "25%      1.628812    5.531592    0.854904    0.182142    0.195945    0.185884   \n",
              "50%      2.068654    7.563524    0.885243    0.281802    0.231820    0.207456   \n",
              "75%      2.504630   10.571021    0.917343    0.405891    0.263500    0.226357   \n",
              "max      3.800316   18.224444    0.959177    0.710205    0.280000    0.250264   \n",
              "\n",
              "          meanfun      minfun      maxfun     meandom      mindom      maxdom  \\\n",
              "count  909.000000  909.000000  909.000000  909.000000  909.000000  909.000000   \n",
              "mean     0.166384    0.032167    0.259240    0.791625    0.129787    4.224534   \n",
              "std      0.032946    0.018036    0.018766    0.318400    0.101413    1.966856   \n",
              "min      0.074660    0.015640    0.192771    0.107319    0.000000    0.234375   \n",
              "25%      0.141497    0.018328    0.250000    0.544271    0.000000    2.960938   \n",
              "50%      0.173804    0.024768    0.266667    0.765625    0.148438    4.500000   \n",
              "75%      0.192616    0.040921    0.275862    1.005729    0.210938    5.875000   \n",
              "max      0.228604    0.086957    0.275862    1.724888    0.500000    6.992188   \n",
              "\n",
              "          dfrange     modindx  \n",
              "count  909.000000  909.000000  \n",
              "mean     4.094747    0.204235  \n",
              "std      1.958441    0.070437  \n",
              "min      0.085938    0.009846  \n",
              "25%      2.781250    0.151972  \n",
              "50%      4.367188    0.194397  \n",
              "75%      5.734375    0.245702  \n",
              "max      6.992188    0.401399  "
            ],
            "text/html": [
              "\n",
              "  <div id=\"df-05ede542-8bf3-4d66-b22d-f54fd6ffe078\">\n",
              "    <div class=\"colab-df-container\">\n",
              "      <div>\n",
              "<style scoped>\n",
              "    .dataframe tbody tr th:only-of-type {\n",
              "        vertical-align: middle;\n",
              "    }\n",
              "\n",
              "    .dataframe tbody tr th {\n",
              "        vertical-align: top;\n",
              "    }\n",
              "\n",
              "    .dataframe thead th {\n",
              "        text-align: right;\n",
              "    }\n",
              "</style>\n",
              "<table border=\"1\" class=\"dataframe\">\n",
              "  <thead>\n",
              "    <tr style=\"text-align: right;\">\n",
              "      <th></th>\n",
              "      <th>meanfreq</th>\n",
              "      <th>sd</th>\n",
              "      <th>median</th>\n",
              "      <th>Q25</th>\n",
              "      <th>Q75</th>\n",
              "      <th>IQR</th>\n",
              "      <th>skew</th>\n",
              "      <th>kurt</th>\n",
              "      <th>sp.ent</th>\n",
              "      <th>sfm</th>\n",
              "      <th>mode</th>\n",
              "      <th>centroid</th>\n",
              "      <th>meanfun</th>\n",
              "      <th>minfun</th>\n",
              "      <th>maxfun</th>\n",
              "      <th>meandom</th>\n",
              "      <th>mindom</th>\n",
              "      <th>maxdom</th>\n",
              "      <th>dfrange</th>\n",
              "      <th>modindx</th>\n",
              "    </tr>\n",
              "  </thead>\n",
              "  <tbody>\n",
              "    <tr>\n",
              "      <th>count</th>\n",
              "      <td>909.000000</td>\n",
              "      <td>909.000000</td>\n",
              "      <td>909.000000</td>\n",
              "      <td>909.000000</td>\n",
              "      <td>909.000000</td>\n",
              "      <td>909.000000</td>\n",
              "      <td>909.000000</td>\n",
              "      <td>909.000000</td>\n",
              "      <td>909.000000</td>\n",
              "      <td>909.000000</td>\n",
              "      <td>909.000000</td>\n",
              "      <td>909.000000</td>\n",
              "      <td>909.000000</td>\n",
              "      <td>909.000000</td>\n",
              "      <td>909.000000</td>\n",
              "      <td>909.000000</td>\n",
              "      <td>909.000000</td>\n",
              "      <td>909.000000</td>\n",
              "      <td>909.000000</td>\n",
              "      <td>909.000000</td>\n",
              "    </tr>\n",
              "    <tr>\n",
              "      <th>mean</th>\n",
              "      <td>0.206170</td>\n",
              "      <td>0.051275</td>\n",
              "      <td>0.212524</td>\n",
              "      <td>0.177508</td>\n",
              "      <td>0.244574</td>\n",
              "      <td>0.067065</td>\n",
              "      <td>2.095407</td>\n",
              "      <td>8.336008</td>\n",
              "      <td>0.884311</td>\n",
              "      <td>0.298569</td>\n",
              "      <td>0.220830</td>\n",
              "      <td>0.206170</td>\n",
              "      <td>0.166384</td>\n",
              "      <td>0.032167</td>\n",
              "      <td>0.259240</td>\n",
              "      <td>0.791625</td>\n",
              "      <td>0.129787</td>\n",
              "      <td>4.224534</td>\n",
              "      <td>4.094747</td>\n",
              "      <td>0.204235</td>\n",
              "    </tr>\n",
              "    <tr>\n",
              "      <th>std</th>\n",
              "      <td>0.023133</td>\n",
              "      <td>0.014841</td>\n",
              "      <td>0.027557</td>\n",
              "      <td>0.038010</td>\n",
              "      <td>0.017223</td>\n",
              "      <td>0.029831</td>\n",
              "      <td>0.614903</td>\n",
              "      <td>3.511599</td>\n",
              "      <td>0.036912</td>\n",
              "      <td>0.134277</td>\n",
              "      <td>0.047916</td>\n",
              "      <td>0.023133</td>\n",
              "      <td>0.032946</td>\n",
              "      <td>0.018036</td>\n",
              "      <td>0.018766</td>\n",
              "      <td>0.318400</td>\n",
              "      <td>0.101413</td>\n",
              "      <td>1.966856</td>\n",
              "      <td>1.958441</td>\n",
              "      <td>0.070437</td>\n",
              "    </tr>\n",
              "    <tr>\n",
              "      <th>min</th>\n",
              "      <td>0.138892</td>\n",
              "      <td>0.024114</td>\n",
              "      <td>0.139472</td>\n",
              "      <td>0.046111</td>\n",
              "      <td>0.193367</td>\n",
              "      <td>0.020098</td>\n",
              "      <td>0.681156</td>\n",
              "      <td>2.657216</td>\n",
              "      <td>0.783243</td>\n",
              "      <td>0.074134</td>\n",
              "      <td>0.084523</td>\n",
              "      <td>0.138892</td>\n",
              "      <td>0.074660</td>\n",
              "      <td>0.015640</td>\n",
              "      <td>0.192771</td>\n",
              "      <td>0.107319</td>\n",
              "      <td>0.000000</td>\n",
              "      <td>0.234375</td>\n",
              "      <td>0.085938</td>\n",
              "      <td>0.009846</td>\n",
              "    </tr>\n",
              "    <tr>\n",
              "      <th>25%</th>\n",
              "      <td>0.185884</td>\n",
              "      <td>0.037961</td>\n",
              "      <td>0.191591</td>\n",
              "      <td>0.146098</td>\n",
              "      <td>0.232371</td>\n",
              "      <td>0.042470</td>\n",
              "      <td>1.628812</td>\n",
              "      <td>5.531592</td>\n",
              "      <td>0.854904</td>\n",
              "      <td>0.182142</td>\n",
              "      <td>0.195945</td>\n",
              "      <td>0.185884</td>\n",
              "      <td>0.141497</td>\n",
              "      <td>0.018328</td>\n",
              "      <td>0.250000</td>\n",
              "      <td>0.544271</td>\n",
              "      <td>0.000000</td>\n",
              "      <td>2.960938</td>\n",
              "      <td>2.781250</td>\n",
              "      <td>0.151972</td>\n",
              "    </tr>\n",
              "    <tr>\n",
              "      <th>50%</th>\n",
              "      <td>0.207456</td>\n",
              "      <td>0.049979</td>\n",
              "      <td>0.216077</td>\n",
              "      <td>0.184609</td>\n",
              "      <td>0.245731</td>\n",
              "      <td>0.057073</td>\n",
              "      <td>2.068654</td>\n",
              "      <td>7.563524</td>\n",
              "      <td>0.885243</td>\n",
              "      <td>0.281802</td>\n",
              "      <td>0.231820</td>\n",
              "      <td>0.207456</td>\n",
              "      <td>0.173804</td>\n",
              "      <td>0.024768</td>\n",
              "      <td>0.266667</td>\n",
              "      <td>0.765625</td>\n",
              "      <td>0.148438</td>\n",
              "      <td>4.500000</td>\n",
              "      <td>4.367188</td>\n",
              "      <td>0.194397</td>\n",
              "    </tr>\n",
              "    <tr>\n",
              "      <th>75%</th>\n",
              "      <td>0.226357</td>\n",
              "      <td>0.062497</td>\n",
              "      <td>0.233591</td>\n",
              "      <td>0.211461</td>\n",
              "      <td>0.259418</td>\n",
              "      <td>0.092380</td>\n",
              "      <td>2.504630</td>\n",
              "      <td>10.571021</td>\n",
              "      <td>0.917343</td>\n",
              "      <td>0.405891</td>\n",
              "      <td>0.263500</td>\n",
              "      <td>0.226357</td>\n",
              "      <td>0.192616</td>\n",
              "      <td>0.040921</td>\n",
              "      <td>0.275862</td>\n",
              "      <td>1.005729</td>\n",
              "      <td>0.210938</td>\n",
              "      <td>5.875000</td>\n",
              "      <td>5.734375</td>\n",
              "      <td>0.245702</td>\n",
              "    </tr>\n",
              "    <tr>\n",
              "      <th>max</th>\n",
              "      <td>0.250264</td>\n",
              "      <td>0.100239</td>\n",
              "      <td>0.264487</td>\n",
              "      <td>0.250455</td>\n",
              "      <td>0.274048</td>\n",
              "      <td>0.173421</td>\n",
              "      <td>3.800316</td>\n",
              "      <td>18.224444</td>\n",
              "      <td>0.959177</td>\n",
              "      <td>0.710205</td>\n",
              "      <td>0.280000</td>\n",
              "      <td>0.250264</td>\n",
              "      <td>0.228604</td>\n",
              "      <td>0.086957</td>\n",
              "      <td>0.275862</td>\n",
              "      <td>1.724888</td>\n",
              "      <td>0.500000</td>\n",
              "      <td>6.992188</td>\n",
              "      <td>6.992188</td>\n",
              "      <td>0.401399</td>\n",
              "    </tr>\n",
              "  </tbody>\n",
              "</table>\n",
              "</div>\n",
              "      <button class=\"colab-df-convert\" onclick=\"convertToInteractive('df-05ede542-8bf3-4d66-b22d-f54fd6ffe078')\"\n",
              "              title=\"Convert this dataframe to an interactive table.\"\n",
              "              style=\"display:none;\">\n",
              "        \n",
              "  <svg xmlns=\"http://www.w3.org/2000/svg\" height=\"24px\"viewBox=\"0 0 24 24\"\n",
              "       width=\"24px\">\n",
              "    <path d=\"M0 0h24v24H0V0z\" fill=\"none\"/>\n",
              "    <path d=\"M18.56 5.44l.94 2.06.94-2.06 2.06-.94-2.06-.94-.94-2.06-.94 2.06-2.06.94zm-11 1L8.5 8.5l.94-2.06 2.06-.94-2.06-.94L8.5 2.5l-.94 2.06-2.06.94zm10 10l.94 2.06.94-2.06 2.06-.94-2.06-.94-.94-2.06-.94 2.06-2.06.94z\"/><path d=\"M17.41 7.96l-1.37-1.37c-.4-.4-.92-.59-1.43-.59-.52 0-1.04.2-1.43.59L10.3 9.45l-7.72 7.72c-.78.78-.78 2.05 0 2.83L4 21.41c.39.39.9.59 1.41.59.51 0 1.02-.2 1.41-.59l7.78-7.78 2.81-2.81c.8-.78.8-2.07 0-2.86zM5.41 20L4 18.59l7.72-7.72 1.47 1.35L5.41 20z\"/>\n",
              "  </svg>\n",
              "      </button>\n",
              "      \n",
              "  <style>\n",
              "    .colab-df-container {\n",
              "      display:flex;\n",
              "      flex-wrap:wrap;\n",
              "      gap: 12px;\n",
              "    }\n",
              "\n",
              "    .colab-df-convert {\n",
              "      background-color: #E8F0FE;\n",
              "      border: none;\n",
              "      border-radius: 50%;\n",
              "      cursor: pointer;\n",
              "      display: none;\n",
              "      fill: #1967D2;\n",
              "      height: 32px;\n",
              "      padding: 0 0 0 0;\n",
              "      width: 32px;\n",
              "    }\n",
              "\n",
              "    .colab-df-convert:hover {\n",
              "      background-color: #E2EBFA;\n",
              "      box-shadow: 0px 1px 2px rgba(60, 64, 67, 0.3), 0px 1px 3px 1px rgba(60, 64, 67, 0.15);\n",
              "      fill: #174EA6;\n",
              "    }\n",
              "\n",
              "    [theme=dark] .colab-df-convert {\n",
              "      background-color: #3B4455;\n",
              "      fill: #D2E3FC;\n",
              "    }\n",
              "\n",
              "    [theme=dark] .colab-df-convert:hover {\n",
              "      background-color: #434B5C;\n",
              "      box-shadow: 0px 1px 3px 1px rgba(0, 0, 0, 0.15);\n",
              "      filter: drop-shadow(0px 1px 2px rgba(0, 0, 0, 0.3));\n",
              "      fill: #FFFFFF;\n",
              "    }\n",
              "  </style>\n",
              "\n",
              "      <script>\n",
              "        const buttonEl =\n",
              "          document.querySelector('#df-05ede542-8bf3-4d66-b22d-f54fd6ffe078 button.colab-df-convert');\n",
              "        buttonEl.style.display =\n",
              "          google.colab.kernel.accessAllowed ? 'block' : 'none';\n",
              "\n",
              "        async function convertToInteractive(key) {\n",
              "          const element = document.querySelector('#df-05ede542-8bf3-4d66-b22d-f54fd6ffe078');\n",
              "          const dataTable =\n",
              "            await google.colab.kernel.invokeFunction('convertToInteractive',\n",
              "                                                     [key], {});\n",
              "          if (!dataTable) return;\n",
              "\n",
              "          const docLinkHtml = 'Like what you see? Visit the ' +\n",
              "            '<a target=\"_blank\" href=https://colab.research.google.com/notebooks/data_table.ipynb>data table notebook</a>'\n",
              "            + ' to learn more about interactive tables.';\n",
              "          element.innerHTML = '';\n",
              "          dataTable['output_type'] = 'display_data';\n",
              "          await google.colab.output.renderOutput(dataTable, element);\n",
              "          const docLink = document.createElement('div');\n",
              "          docLink.innerHTML = docLinkHtml;\n",
              "          element.appendChild(docLink);\n",
              "        }\n",
              "      </script>\n",
              "    </div>\n",
              "  </div>\n",
              "  "
            ]
          },
          "metadata": {},
          "execution_count": 67
        }
      ],
      "source": [
        "df.describe()"
      ]
    },
    {
      "cell_type": "code",
      "execution_count": null,
      "metadata": {
        "colab": {
          "base_uri": "https://localhost:8080/"
        },
        "id": "Iie6iYyhAlOQ",
        "outputId": "449a8f4d-8edf-4fcb-9eb2-80d9f9e68999"
      },
      "outputs": [
        {
          "output_type": "execute_result",
          "data": {
            "text/plain": [
              "sad      314\n",
              "angry    302\n",
              "happy    293\n",
              "Name: label, dtype: int64"
            ]
          },
          "metadata": {},
          "execution_count": 68
        }
      ],
      "source": [
        "df.label.value_counts()"
      ]
    },
    {
      "cell_type": "code",
      "execution_count": null,
      "metadata": {
        "colab": {
          "base_uri": "https://localhost:8080/"
        },
        "id": "na_063syAtns",
        "outputId": "ae0a4da9-022e-46d6-e840-eec91e31ba9a"
      },
      "outputs": [
        {
          "output_type": "stream",
          "name": "stdout",
          "text": [
            "<class 'pandas.core.frame.DataFrame'>\n",
            "RangeIndex: 909 entries, 0 to 908\n",
            "Data columns (total 21 columns):\n",
            " #   Column    Non-Null Count  Dtype  \n",
            "---  ------    --------------  -----  \n",
            " 0   meanfreq  909 non-null    float64\n",
            " 1   sd        909 non-null    float64\n",
            " 2   median    909 non-null    float64\n",
            " 3   Q25       909 non-null    float64\n",
            " 4   Q75       909 non-null    float64\n",
            " 5   IQR       909 non-null    float64\n",
            " 6   skew      909 non-null    float64\n",
            " 7   kurt      909 non-null    float64\n",
            " 8   sp.ent    909 non-null    float64\n",
            " 9   sfm       909 non-null    float64\n",
            " 10  mode      909 non-null    float64\n",
            " 11  centroid  909 non-null    float64\n",
            " 12  meanfun   909 non-null    float64\n",
            " 13  minfun    909 non-null    float64\n",
            " 14  maxfun    909 non-null    float64\n",
            " 15  meandom   909 non-null    float64\n",
            " 16  mindom    909 non-null    float64\n",
            " 17  maxdom    909 non-null    float64\n",
            " 18  dfrange   909 non-null    float64\n",
            " 19  modindx   909 non-null    float64\n",
            " 20  label     909 non-null    object \n",
            "dtypes: float64(20), object(1)\n",
            "memory usage: 149.3+ KB\n",
            "None\n"
          ]
        }
      ],
      "source": [
        "print(df.info())"
      ]
    },
    {
      "cell_type": "code",
      "execution_count": null,
      "metadata": {
        "id": "HKWQh9bmAyjp"
      },
      "outputs": [],
      "source": [
        "dict = {'label':{'sad':0,'angry':1, 'happy':2}}      \n",
        "df.replace(dict,inplace = True)           \n",
        "X = df.loc[:, df.columns != 'label']\n",
        "y = df.loc[:,'label']"
      ]
    },
    {
      "cell_type": "code",
      "execution_count": null,
      "metadata": {
        "colab": {
          "base_uri": "https://localhost:8080/",
          "height": 654
        },
        "id": "ucMfDlTrA_Am",
        "outputId": "843825d2-7b4a-4b48-c11f-c2612478ba73"
      },
      "outputs": [
        {
          "output_type": "execute_result",
          "data": {
            "text/plain": [
              "<matplotlib.axes._subplots.AxesSubplot at 0x7f278cf46d10>"
            ]
          },
          "metadata": {},
          "execution_count": 71
        },
        {
          "output_type": "display_data",
          "data": {
            "text/plain": [
              "<Figure size 1080x720 with 2 Axes>"
            ],
            "image/png": "[encoded data removed]"
          },
          "metadata": {
            "needs_background": "light"
          }
        }
      ],
      "source": [
        "corr_matrix=df.corr()\n",
        "plt.figure(figsize=(15,10))\n",
        "sns.heatmap(corr_matrix,\n",
        "           annot=True,\n",
        "           linewidths=0.5,\n",
        "           fmt=\".2f\",\n",
        "           cmap=\"YlGnBu\")"
      ]
    },
    {
      "cell_type": "code",
      "execution_count": null,
      "metadata": {
        "id": "0Ypuw7feB5gk"
      },
      "outputs": [],
      "source": [
        "X_train, X_test, y_train, y_test = train_test_split(X, y)"
      ]
    },
    {
      "cell_type": "code",
      "execution_count": null,
      "metadata": {
        "id": "P8X9M4uKCGAh"
      },
      "outputs": [],
      "source": [
        "model_acc = []"
      ]
    },
    {
      "cell_type": "code",
      "execution_count": null,
      "metadata": {
        "id": "hO0PypIGCO8A"
      },
      "outputs": [],
      "source": [
        "svm_c = 1000\n",
        "svm_gamma = 0.01\n",
        "\n",
        "dtc_md = 4\n",
        "\n",
        "rfc_M = 14\n",
        "rfc_d = 8\n",
        "rfc_m = 16"
      ]
    },
    {
      "cell_type": "code",
      "execution_count": null,
      "metadata": {
        "id": "xVw061wxCWkJ"
      },
      "outputs": [],
      "source": [
        "SVM_model = SVC(C=svm_c, gamma=svm_gamma).fit(X_train, y_train)\n",
        "train_acc = SVM_model.score(X_train, y_train)\n",
        "test_acc = SVM_model.score(X_test, y_test)\n",
        "m = 'SVM'\n",
        "model_acc.append([m, train_acc, test_acc])"
      ]
    },
    {
      "cell_type": "code",
      "execution_count": null,
      "metadata": {
        "id": "dFegAzK8Ru0B"
      },
      "outputs": [],
      "source": [
        "RFC_model = RandomForestClassifier(n_estimators=rfc_M, max_features=rfc_d, max_depth=rfc_m, random_state=0).fit(X_train, y_train)\n",
        "train_acc = RFC_model.score(X_train, y_train)\n",
        "test_acc = RFC_model.score(X_test, y_test)\n",
        "m = 'Random Forest Classifier'\n",
        "model_acc.append([m, train_acc, test_acc])"
      ]
    },
    {
      "cell_type": "code",
      "execution_count": null,
      "metadata": {
        "id": "ghQYXvH0Rm9f"
      },
      "outputs": [],
      "source": [
        "DTC_model = DecisionTreeClassifier(max_depth=dtc_md).fit(X_train, y_train)\n",
        "train_acc = DTC_model.score(X_train, y_train)\n",
        "test_acc = DTC_model.score(X_test, y_test)\n",
        "m = 'Decision Tree Classifier'\n",
        "model_acc.append([m, train_acc, test_acc])"
      ]
    },
    {
      "cell_type": "code",
      "execution_count": null,
      "metadata": {
        "id": "i44Aew-35BDS"
      },
      "outputs": [],
      "source": [
        "from sklearn.linear_model import LogisticRegression #Logistic Regression\n",
        "logmodel = LogisticRegression(solver='liblinear')\n",
        "train_acc=logmodel.fit(X_train,y_train)\n",
        "test_acc=logmodel.score(X_train,y_train)\n",
        "m = 'Logistic Regression'\n",
        "model_acc.append([m, train_acc, test_acc])"
      ]
    },
    {
      "cell_type": "code",
      "execution_count": null,
      "metadata": {
        "id": "Io0vlhk_5Dqn"
      },
      "outputs": [],
      "source": [
        "from sklearn.neighbors import KNeighborsClassifier #knn\n",
        "knn = KNeighborsClassifier(n_neighbors=15 )\n",
        "train_acc=knn.fit(X_train,y_train)\n",
        "test_acc=knn.score(X_train,y_train)\n",
        "m = 'Knn Neighbours'\n",
        "model_acc.append([m, train_acc, test_acc])"
      ]
    },
    {
      "cell_type": "code",
      "execution_count": null,
      "metadata": {
        "id": "NLdhqCcD5Nfm"
      },
      "outputs": [],
      "source": [
        "from sklearn.naive_bayes import GaussianNB #naive bayes\n",
        "nb = GaussianNB()\n",
        "train_acc=nb.fit(X_train,y_train)\n",
        "test_acc=nb.score(X_train,y_train)\n",
        "m = 'Gaussian Classifiers'\n",
        "model_acc.append([m, train_acc, test_acc])"
      ]
    },
    {
      "cell_type": "code",
      "execution_count": null,
      "metadata": {
        "id": "kMPGKe8I6kn4"
      },
      "outputs": [],
      "source": [
        "import numpy as np\n",
        "import pandas as pd\n",
        "import tensorflow as tf\n",
        "from tensorflow import keras\n",
        "from tensorflow.keras.models import Sequential\n",
        "from tensorflow.keras.layers import Dense,Conv2D"
      ]
    },
    {
      "cell_type": "code",
      "source": [
        "df = tf.keras.datasets.fashion_mnist\n",
        "(train_df,train_labl),(test_df,test_labl) = df.load_data()"
      ],
      "metadata": {
        "id": "a64-XZgFPwuo"
      },
      "execution_count": null,
      "outputs": []
    },
    {
      "cell_type": "code",
      "execution_count": null,
      "metadata": {
        "id": "GfLOEWAV7zdo"
      },
      "outputs": [],
      "source": [
        "train_df=train_df/255.0\n",
        "test_df = test_df/255.0"
      ]
    },
    {
      "cell_type": "code",
      "execution_count": null,
      "metadata": {
        "colab": {
          "base_uri": "https://localhost:8080/"
        },
        "id": "rwsfCv_j74nh",
        "outputId": "929fab09-5f3b-4802-8800-b4435f73d239"
      },
      "outputs": [
        {
          "output_type": "execute_result",
          "data": {
            "text/plain": [
              "array([[0.        , 0.        , 0.        , 0.        , 0.        ,\n",
              "        0.        , 0.        , 0.        , 0.        , 0.        ,\n",
              "        0.        , 0.        , 0.        , 0.        , 0.        ,\n",
              "        0.        , 0.        , 0.        , 0.        , 0.        ,\n",
              "        0.        , 0.        , 0.        , 0.        , 0.        ,\n",
              "        0.        , 0.        , 0.        ],\n",
              "       [0.        , 0.        , 0.        , 0.        , 0.        ,\n",
              "        0.        , 0.        , 0.        , 0.        , 0.        ,\n",
              "        0.        , 0.        , 0.        , 0.        , 0.        ,\n",
              "        0.        , 0.        , 0.        , 0.        , 0.        ,\n",
              "        0.        , 0.        , 0.        , 0.        , 0.        ,\n",
              "        0.        , 0.        , 0.        ],\n",
              "       [0.        , 0.        , 0.        , 0.        , 0.        ,\n",
              "        0.        , 0.        , 0.        , 0.        , 0.        ,\n",
              "        0.        , 0.        , 0.        , 0.        , 0.        ,\n",
              "        0.        , 0.        , 0.        , 0.        , 0.        ,\n",
              "        0.        , 0.        , 0.        , 0.        , 0.        ,\n",
              "        0.        , 0.        , 0.        ],\n",
              "       [0.        , 0.        , 0.        , 0.        , 0.        ,\n",
              "        0.        , 0.        , 0.        , 0.        , 0.        ,\n",
              "        0.        , 0.        , 0.00392157, 0.        , 0.        ,\n",
              "        0.05098039, 0.28627451, 0.        , 0.        , 0.00392157,\n",
              "        0.01568627, 0.        , 0.        , 0.        , 0.        ,\n",
              "        0.00392157, 0.00392157, 0.        ],\n",
              "       [0.        , 0.        , 0.        , 0.        , 0.        ,\n",
              "        0.        , 0.        , 0.        , 0.        , 0.        ,\n",
              "        0.        , 0.        , 0.01176471, 0.        , 0.14117647,\n",
              "        0.53333333, 0.49803922, 0.24313725, 0.21176471, 0.        ,\n",
              "        0.        , 0.        , 0.00392157, 0.01176471, 0.01568627,\n",
              "        0.        , 0.        , 0.01176471],\n",
              "       [0.        , 0.        , 0.        , 0.        , 0.        ,\n",
              "        0.        , 0.        , 0.        , 0.        , 0.        ,\n",
              "        0.        , 0.        , 0.02352941, 0.        , 0.4       ,\n",
              "        0.8       , 0.69019608, 0.5254902 , 0.56470588, 0.48235294,\n",
              "        0.09019608, 0.        , 0.        , 0.        , 0.        ,\n",
              "        0.04705882, 0.03921569, 0.        ],\n",
              "       [0.        , 0.        , 0.        , 0.        , 0.        ,\n",
              "        0.        , 0.        , 0.        , 0.        , 0.        ,\n",
              "        0.        , 0.        , 0.        , 0.        , 0.60784314,\n",
              "        0.9254902 , 0.81176471, 0.69803922, 0.41960784, 0.61176471,\n",
              "        0.63137255, 0.42745098, 0.25098039, 0.09019608, 0.30196078,\n",
              "        0.50980392, 0.28235294, 0.05882353],\n",
              "       [0.        , 0.        , 0.        , 0.        , 0.        ,\n",
              "        0.        , 0.        , 0.        , 0.        , 0.        ,\n",
              "        0.        , 0.00392157, 0.        , 0.27058824, 0.81176471,\n",
              "        0.8745098 , 0.85490196, 0.84705882, 0.84705882, 0.63921569,\n",
              "        0.49803922, 0.4745098 , 0.47843137, 0.57254902, 0.55294118,\n",
              "        0.34509804, 0.6745098 , 0.25882353],\n",
              "       [0.        , 0.        , 0.        , 0.        , 0.        ,\n",
              "        0.        , 0.        , 0.        , 0.        , 0.00392157,\n",
              "        0.00392157, 0.00392157, 0.        , 0.78431373, 0.90980392,\n",
              "        0.90980392, 0.91372549, 0.89803922, 0.8745098 , 0.8745098 ,\n",
              "        0.84313725, 0.83529412, 0.64313725, 0.49803922, 0.48235294,\n",
              "        0.76862745, 0.89803922, 0.        ],\n",
              "       [0.        , 0.        , 0.        , 0.        , 0.        ,\n",
              "        0.        , 0.        , 0.        , 0.        , 0.        ,\n",
              "        0.        , 0.        , 0.        , 0.71764706, 0.88235294,\n",
              "        0.84705882, 0.8745098 , 0.89411765, 0.92156863, 0.89019608,\n",
              "        0.87843137, 0.87058824, 0.87843137, 0.86666667, 0.8745098 ,\n",
              "        0.96078431, 0.67843137, 0.        ],\n",
              "       [0.        , 0.        , 0.        , 0.        , 0.        ,\n",
              "        0.        , 0.        , 0.        , 0.        , 0.        ,\n",
              "        0.        , 0.        , 0.        , 0.75686275, 0.89411765,\n",
              "        0.85490196, 0.83529412, 0.77647059, 0.70588235, 0.83137255,\n",
              "        0.82352941, 0.82745098, 0.83529412, 0.8745098 , 0.8627451 ,\n",
              "        0.95294118, 0.79215686, 0.        ],\n",
              "       [0.        , 0.        , 0.        , 0.        , 0.        ,\n",
              "        0.        , 0.        , 0.        , 0.        , 0.00392157,\n",
              "        0.01176471, 0.        , 0.04705882, 0.85882353, 0.8627451 ,\n",
              "        0.83137255, 0.85490196, 0.75294118, 0.6627451 , 0.89019608,\n",
              "        0.81568627, 0.85490196, 0.87843137, 0.83137255, 0.88627451,\n",
              "        0.77254902, 0.81960784, 0.20392157],\n",
              "       [0.        , 0.        , 0.        , 0.        , 0.        ,\n",
              "        0.        , 0.        , 0.        , 0.        , 0.        ,\n",
              "        0.02352941, 0.        , 0.38823529, 0.95686275, 0.87058824,\n",
              "        0.8627451 , 0.85490196, 0.79607843, 0.77647059, 0.86666667,\n",
              "        0.84313725, 0.83529412, 0.87058824, 0.8627451 , 0.96078431,\n",
              "        0.46666667, 0.65490196, 0.21960784],\n",
              "       [0.        , 0.        , 0.        , 0.        , 0.        ,\n",
              "        0.        , 0.        , 0.        , 0.        , 0.01568627,\n",
              "        0.        , 0.        , 0.21568627, 0.9254902 , 0.89411765,\n",
              "        0.90196078, 0.89411765, 0.94117647, 0.90980392, 0.83529412,\n",
              "        0.85490196, 0.8745098 , 0.91764706, 0.85098039, 0.85098039,\n",
              "        0.81960784, 0.36078431, 0.        ],\n",
              "       [0.        , 0.        , 0.00392157, 0.01568627, 0.02352941,\n",
              "        0.02745098, 0.00784314, 0.        , 0.        , 0.        ,\n",
              "        0.        , 0.        , 0.92941176, 0.88627451, 0.85098039,\n",
              "        0.8745098 , 0.87058824, 0.85882353, 0.87058824, 0.86666667,\n",
              "        0.84705882, 0.8745098 , 0.89803922, 0.84313725, 0.85490196,\n",
              "        1.        , 0.30196078, 0.        ],\n",
              "       [0.        , 0.01176471, 0.        , 0.        , 0.        ,\n",
              "        0.        , 0.        , 0.        , 0.        , 0.24313725,\n",
              "        0.56862745, 0.8       , 0.89411765, 0.81176471, 0.83529412,\n",
              "        0.86666667, 0.85490196, 0.81568627, 0.82745098, 0.85490196,\n",
              "        0.87843137, 0.8745098 , 0.85882353, 0.84313725, 0.87843137,\n",
              "        0.95686275, 0.62352941, 0.        ],\n",
              "       [0.        , 0.        , 0.        , 0.        , 0.07058824,\n",
              "        0.17254902, 0.32156863, 0.41960784, 0.74117647, 0.89411765,\n",
              "        0.8627451 , 0.87058824, 0.85098039, 0.88627451, 0.78431373,\n",
              "        0.80392157, 0.82745098, 0.90196078, 0.87843137, 0.91764706,\n",
              "        0.69019608, 0.7372549 , 0.98039216, 0.97254902, 0.91372549,\n",
              "        0.93333333, 0.84313725, 0.        ],\n",
              "       [0.        , 0.22352941, 0.73333333, 0.81568627, 0.87843137,\n",
              "        0.86666667, 0.87843137, 0.81568627, 0.8       , 0.83921569,\n",
              "        0.81568627, 0.81960784, 0.78431373, 0.62352941, 0.96078431,\n",
              "        0.75686275, 0.80784314, 0.8745098 , 1.        , 1.        ,\n",
              "        0.86666667, 0.91764706, 0.86666667, 0.82745098, 0.8627451 ,\n",
              "        0.90980392, 0.96470588, 0.        ],\n",
              "       [0.01176471, 0.79215686, 0.89411765, 0.87843137, 0.86666667,\n",
              "        0.82745098, 0.82745098, 0.83921569, 0.80392157, 0.80392157,\n",
              "        0.80392157, 0.8627451 , 0.94117647, 0.31372549, 0.58823529,\n",
              "        1.        , 0.89803922, 0.86666667, 0.7372549 , 0.60392157,\n",
              "        0.74901961, 0.82352941, 0.8       , 0.81960784, 0.87058824,\n",
              "        0.89411765, 0.88235294, 0.        ],\n",
              "       [0.38431373, 0.91372549, 0.77647059, 0.82352941, 0.87058824,\n",
              "        0.89803922, 0.89803922, 0.91764706, 0.97647059, 0.8627451 ,\n",
              "        0.76078431, 0.84313725, 0.85098039, 0.94509804, 0.25490196,\n",
              "        0.28627451, 0.41568627, 0.45882353, 0.65882353, 0.85882353,\n",
              "        0.86666667, 0.84313725, 0.85098039, 0.8745098 , 0.8745098 ,\n",
              "        0.87843137, 0.89803922, 0.11372549],\n",
              "       [0.29411765, 0.8       , 0.83137255, 0.8       , 0.75686275,\n",
              "        0.80392157, 0.82745098, 0.88235294, 0.84705882, 0.7254902 ,\n",
              "        0.77254902, 0.80784314, 0.77647059, 0.83529412, 0.94117647,\n",
              "        0.76470588, 0.89019608, 0.96078431, 0.9372549 , 0.8745098 ,\n",
              "        0.85490196, 0.83137255, 0.81960784, 0.87058824, 0.8627451 ,\n",
              "        0.86666667, 0.90196078, 0.2627451 ],\n",
              "       [0.18823529, 0.79607843, 0.71764706, 0.76078431, 0.83529412,\n",
              "        0.77254902, 0.7254902 , 0.74509804, 0.76078431, 0.75294118,\n",
              "        0.79215686, 0.83921569, 0.85882353, 0.86666667, 0.8627451 ,\n",
              "        0.9254902 , 0.88235294, 0.84705882, 0.78039216, 0.80784314,\n",
              "        0.72941176, 0.70980392, 0.69411765, 0.6745098 , 0.70980392,\n",
              "        0.80392157, 0.80784314, 0.45098039],\n",
              "       [0.        , 0.47843137, 0.85882353, 0.75686275, 0.70196078,\n",
              "        0.67058824, 0.71764706, 0.76862745, 0.8       , 0.82352941,\n",
              "        0.83529412, 0.81176471, 0.82745098, 0.82352941, 0.78431373,\n",
              "        0.76862745, 0.76078431, 0.74901961, 0.76470588, 0.74901961,\n",
              "        0.77647059, 0.75294118, 0.69019608, 0.61176471, 0.65490196,\n",
              "        0.69411765, 0.82352941, 0.36078431],\n",
              "       [0.        , 0.        , 0.29019608, 0.74117647, 0.83137255,\n",
              "        0.74901961, 0.68627451, 0.6745098 , 0.68627451, 0.70980392,\n",
              "        0.7254902 , 0.7372549 , 0.74117647, 0.7372549 , 0.75686275,\n",
              "        0.77647059, 0.8       , 0.81960784, 0.82352941, 0.82352941,\n",
              "        0.82745098, 0.7372549 , 0.7372549 , 0.76078431, 0.75294118,\n",
              "        0.84705882, 0.66666667, 0.        ],\n",
              "       [0.00784314, 0.        , 0.        , 0.        , 0.25882353,\n",
              "        0.78431373, 0.87058824, 0.92941176, 0.9372549 , 0.94901961,\n",
              "        0.96470588, 0.95294118, 0.95686275, 0.86666667, 0.8627451 ,\n",
              "        0.75686275, 0.74901961, 0.70196078, 0.71372549, 0.71372549,\n",
              "        0.70980392, 0.69019608, 0.65098039, 0.65882353, 0.38823529,\n",
              "        0.22745098, 0.        , 0.        ],\n",
              "       [0.        , 0.        , 0.        , 0.        , 0.        ,\n",
              "        0.        , 0.        , 0.15686275, 0.23921569, 0.17254902,\n",
              "        0.28235294, 0.16078431, 0.1372549 , 0.        , 0.        ,\n",
              "        0.        , 0.        , 0.        , 0.        , 0.        ,\n",
              "        0.        , 0.        , 0.        , 0.        , 0.        ,\n",
              "        0.        , 0.        , 0.        ],\n",
              "       [0.        , 0.        , 0.        , 0.        , 0.        ,\n",
              "        0.        , 0.        , 0.        , 0.        , 0.        ,\n",
              "        0.        , 0.        , 0.        , 0.        , 0.        ,\n",
              "        0.        , 0.        , 0.        , 0.        , 0.        ,\n",
              "        0.        , 0.        , 0.        , 0.        , 0.        ,\n",
              "        0.        , 0.        , 0.        ],\n",
              "       [0.        , 0.        , 0.        , 0.        , 0.        ,\n",
              "        0.        , 0.        , 0.        , 0.        , 0.        ,\n",
              "        0.        , 0.        , 0.        , 0.        , 0.        ,\n",
              "        0.        , 0.        , 0.        , 0.        , 0.        ,\n",
              "        0.        , 0.        , 0.        , 0.        , 0.        ,\n",
              "        0.        , 0.        , 0.        ]])"
            ]
          },
          "metadata": {},
          "execution_count": 84
        }
      ],
      "source": [
        "train_df[0]"
      ]
    },
    {
      "cell_type": "code",
      "execution_count": null,
      "metadata": {
        "id": "pmSO2t5K79DL"
      },
      "outputs": [],
      "source": [
        "train_df = train_df.reshape(len(train_df),28,28,1)\n",
        "test_df = test_df.reshape(len(test_df),28,28,1)\n",
        "def build_model(hp):\n",
        "    model = keras.Sequential([ \n",
        "    keras.layers.Conv2D(\n",
        "        filters=hp.Int('conv_1_filter', min_value=32, max_value=128, step=16),\n",
        "        kernel_size=hp.Choice('conv_1_kernel', values = [3,5]),\n",
        "        activation='relu',\n",
        "        input_shape=(28,28,1)),keras.layers.Conv2D(\n",
        "        filters=hp.Int('conv_2_filter', min_value=32, max_value=64, step=16),\n",
        "        kernel_size=hp.Choice('conv_2_kernel', values = [3,5]),\n",
        "        activation='relu'\n",
        "    ), keras.layers.Flatten(),   \n",
        "    keras.layers.Dense(\n",
        "        units=hp.Int('dense_1_units', min_value=32, max_value=128, step=16),\n",
        "        activation='relu'\n",
        "    ),   \n",
        "    keras.layers.Dense(10, activation='softmax')\n",
        "    ])\n",
        "    model.compile(optimizer=keras.optimizers.Adam(hp.Choice('learning_rate', values=[1e-2, 1e-3])),\n",
        "              loss='sparse_categorical_crossentropy',\n",
        "              metrics=['accuracy'])\n",
        "    return model"
      ]
    },
    {
      "cell_type": "code",
      "execution_count": null,
      "metadata": {
        "colab": {
          "base_uri": "https://localhost:8080/"
        },
        "id": "X4JTZHsM9euP",
        "outputId": "35fc7f8f-6900-4d28-9466-838e705495ed"
      },
      "outputs": [
        {
          "output_type": "stream",
          "name": "stdout",
          "text": [
            "Looking in indexes: https://pypi.org/simple, https://us-python.pkg.dev/colab-wheels/public/simple/\n",
            "Requirement already satisfied: keras_tuner in /usr/local/lib/python3.7/dist-packages (1.1.3)\n",
            "Requirement already satisfied: packaging in /usr/local/lib/python3.7/dist-packages (from keras_tuner) (21.3)\n",
            "Requirement already satisfied: tensorboard in /usr/local/lib/python3.7/dist-packages (from keras_tuner) (2.8.0)\n",
            "Requirement already satisfied: numpy in /usr/local/lib/python3.7/dist-packages (from keras_tuner) (1.21.6)\n",
            "Requirement already satisfied: requests in /usr/local/lib/python3.7/dist-packages (from keras_tuner) (2.23.0)\n",
            "Requirement already satisfied: ipython in /usr/local/lib/python3.7/dist-packages (from keras_tuner) (7.9.0)\n",
            "Requirement already satisfied: kt-legacy in /usr/local/lib/python3.7/dist-packages (from keras_tuner) (1.0.4)\n",
            "Requirement already satisfied: backcall in /usr/local/lib/python3.7/dist-packages (from ipython->keras_tuner) (0.2.0)\n",
            "Requirement already satisfied: prompt-toolkit<2.1.0,>=2.0.0 in /usr/local/lib/python3.7/dist-packages (from ipython->keras_tuner) (2.0.10)\n",
            "Requirement already satisfied: pickleshare in /usr/local/lib/python3.7/dist-packages (from ipython->keras_tuner) (0.7.5)\n",
            "Requirement already satisfied: traitlets>=4.2 in /usr/local/lib/python3.7/dist-packages (from ipython->keras_tuner) (5.1.1)\n",
            "Requirement already satisfied: setuptools>=18.5 in /usr/local/lib/python3.7/dist-packages (from ipython->keras_tuner) (57.4.0)\n",
            "Requirement already satisfied: jedi>=0.10 in /usr/local/lib/python3.7/dist-packages (from ipython->keras_tuner) (0.18.1)\n",
            "Requirement already satisfied: pexpect in /usr/local/lib/python3.7/dist-packages (from ipython->keras_tuner) (4.8.0)\n",
            "Requirement already satisfied: pygments in /usr/local/lib/python3.7/dist-packages (from ipython->keras_tuner) (2.6.1)\n",
            "Requirement already satisfied: decorator in /usr/local/lib/python3.7/dist-packages (from ipython->keras_tuner) (4.4.2)\n",
            "Requirement already satisfied: parso<0.9.0,>=0.8.0 in /usr/local/lib/python3.7/dist-packages (from jedi>=0.10->ipython->keras_tuner) (0.8.3)\n",
            "Requirement already satisfied: wcwidth in /usr/local/lib/python3.7/dist-packages (from prompt-toolkit<2.1.0,>=2.0.0->ipython->keras_tuner) (0.2.5)\n",
            "Requirement already satisfied: six>=1.9.0 in /usr/local/lib/python3.7/dist-packages (from prompt-toolkit<2.1.0,>=2.0.0->ipython->keras_tuner) (1.15.0)\n",
            "Requirement already satisfied: pyparsing!=3.0.5,>=2.0.2 in /usr/local/lib/python3.7/dist-packages (from packaging->keras_tuner) (3.0.9)\n",
            "Requirement already satisfied: ptyprocess>=0.5 in /usr/local/lib/python3.7/dist-packages (from pexpect->ipython->keras_tuner) (0.7.0)\n",
            "Requirement already satisfied: certifi>=2017.4.17 in /usr/local/lib/python3.7/dist-packages (from requests->keras_tuner) (2022.6.15)\n",
            "Requirement already satisfied: idna<3,>=2.5 in /usr/local/lib/python3.7/dist-packages (from requests->keras_tuner) (2.10)\n",
            "Requirement already satisfied: urllib3!=1.25.0,!=1.25.1,<1.26,>=1.21.1 in /usr/local/lib/python3.7/dist-packages (from requests->keras_tuner) (1.24.3)\n",
            "Requirement already satisfied: chardet<4,>=3.0.2 in /usr/local/lib/python3.7/dist-packages (from requests->keras_tuner) (3.0.4)\n",
            "Requirement already satisfied: tensorboard-plugin-wit>=1.6.0 in /usr/local/lib/python3.7/dist-packages (from tensorboard->keras_tuner) (1.8.1)\n",
            "Requirement already satisfied: markdown>=2.6.8 in /usr/local/lib/python3.7/dist-packages (from tensorboard->keras_tuner) (3.4.1)\n",
            "Requirement already satisfied: google-auth<3,>=1.6.3 in /usr/local/lib/python3.7/dist-packages (from tensorboard->keras_tuner) (1.35.0)\n",
            "Requirement already satisfied: absl-py>=0.4 in /usr/local/lib/python3.7/dist-packages (from tensorboard->keras_tuner) (1.2.0)\n",
            "Requirement already satisfied: google-auth-oauthlib<0.5,>=0.4.1 in /usr/local/lib/python3.7/dist-packages (from tensorboard->keras_tuner) (0.4.6)\n",
            "Requirement already satisfied: grpcio>=1.24.3 in /usr/local/lib/python3.7/dist-packages (from tensorboard->keras_tuner) (1.48.1)\n",
            "Requirement already satisfied: protobuf>=3.6.0 in /usr/local/lib/python3.7/dist-packages (from tensorboard->keras_tuner) (3.17.3)\n",
            "Requirement already satisfied: werkzeug>=0.11.15 in /usr/local/lib/python3.7/dist-packages (from tensorboard->keras_tuner) (1.0.1)\n",
            "Requirement already satisfied: tensorboard-data-server<0.7.0,>=0.6.0 in /usr/local/lib/python3.7/dist-packages (from tensorboard->keras_tuner) (0.6.1)\n",
            "Requirement already satisfied: wheel>=0.26 in /usr/local/lib/python3.7/dist-packages (from tensorboard->keras_tuner) (0.37.1)\n",
            "Requirement already satisfied: rsa<5,>=3.1.4 in /usr/local/lib/python3.7/dist-packages (from google-auth<3,>=1.6.3->tensorboard->keras_tuner) (4.9)\n",
            "Requirement already satisfied: cachetools<5.0,>=2.0.0 in /usr/local/lib/python3.7/dist-packages (from google-auth<3,>=1.6.3->tensorboard->keras_tuner) (4.2.4)\n",
            "Requirement already satisfied: pyasn1-modules>=0.2.1 in /usr/local/lib/python3.7/dist-packages (from google-auth<3,>=1.6.3->tensorboard->keras_tuner) (0.2.8)\n",
            "Requirement already satisfied: requests-oauthlib>=0.7.0 in /usr/local/lib/python3.7/dist-packages (from google-auth-oauthlib<0.5,>=0.4.1->tensorboard->keras_tuner) (1.3.1)\n",
            "Requirement already satisfied: importlib-metadata>=4.4 in /usr/local/lib/python3.7/dist-packages (from markdown>=2.6.8->tensorboard->keras_tuner) (4.12.0)\n",
            "Requirement already satisfied: typing-extensions>=3.6.4 in /usr/local/lib/python3.7/dist-packages (from importlib-metadata>=4.4->markdown>=2.6.8->tensorboard->keras_tuner) (4.1.1)\n",
            "Requirement already satisfied: zipp>=0.5 in /usr/local/lib/python3.7/dist-packages (from importlib-metadata>=4.4->markdown>=2.6.8->tensorboard->keras_tuner) (3.8.1)\n",
            "Requirement already satisfied: pyasn1<0.5.0,>=0.4.6 in /usr/local/lib/python3.7/dist-packages (from pyasn1-modules>=0.2.1->google-auth<3,>=1.6.3->tensorboard->keras_tuner) (0.4.8)\n",
            "Requirement already satisfied: oauthlib>=3.0.0 in /usr/local/lib/python3.7/dist-packages (from requests-oauthlib>=0.7.0->google-auth-oauthlib<0.5,>=0.4.1->tensorboard->keras_tuner) (3.2.0)\n"
          ]
        }
      ],
      "source": [
        "!pip install keras_tuner"
      ]
    },
    {
      "cell_type": "code",
      "execution_count": null,
      "metadata": {
        "colab": {
          "base_uri": "https://localhost:8080/"
        },
        "id": "HswulxD28jRs",
        "outputId": "2d7499cb-bcdd-4b10-cfa4-3b6192650131"
      },
      "outputs": [
        {
          "output_type": "stream",
          "name": "stdout",
          "text": [
            "Trial 5 Complete [00h 09m 23s]\n",
            "val_accuracy: 0.9300000071525574\n",
            "\n",
            "Best val_accuracy So Far: 0.9432166814804077\n",
            "Total elapsed time: 00h 58m 32s\n"
          ]
        }
      ],
      "source": [
        "from kerastuner import RandomSearch\n",
        "#creating randomsearch object\n",
        "tuner = RandomSearch(build_model,\n",
        "                     objective='val_accuracy',\n",
        "                    max_trials = 5)\n",
        "# search best parameter\n",
        "tuner.search(train_df,train_labl,epochs=3,validation_data=(train_df,train_labl))"
      ]
    },
    {
      "cell_type": "code",
      "execution_count": null,
      "metadata": {
        "id": "34xqubmEbAHA",
        "colab": {
          "base_uri": "https://localhost:8080/"
        },
        "outputId": "060b0cdf-9e5f-4328-ea9c-39718adbddfd"
      },
      "outputs": [
        {
          "output_type": "stream",
          "name": "stdout",
          "text": [
            "Model: \"sequential\"\n",
            "_________________________________________________________________\n",
            " Layer (type)                Output Shape              Param #   \n",
            "=================================================================\n",
            " conv2d (Conv2D)             (None, 26, 26, 64)        640       \n",
            "                                                                 \n",
            " conv2d_1 (Conv2D)           (None, 24, 24, 48)        27696     \n",
            "                                                                 \n",
            " flatten (Flatten)           (None, 27648)             0         \n",
            "                                                                 \n",
            " dense (Dense)               (None, 32)                884768    \n",
            "                                                                 \n",
            " dense_1 (Dense)             (None, 10)                330       \n",
            "                                                                 \n",
            "=================================================================\n",
            "Total params: 913,434\n",
            "Trainable params: 913,434\n",
            "Non-trainable params: 0\n",
            "_________________________________________________________________\n"
          ]
        }
      ],
      "source": [
        "model=tuner.get_best_models(num_models=1)[0]\n",
        "#summary of best model\n",
        "model.summary()"
      ]
    },
    {
      "cell_type": "code",
      "execution_count": null,
      "metadata": {
        "id": "Ja8GJo7qbKsy",
        "colab": {
          "base_uri": "https://localhost:8080/"
        },
        "outputId": "86456fb9-a8b9-4a80-def5-4f78a6256fdb"
      },
      "outputs": [
        {
          "output_type": "stream",
          "name": "stdout",
          "text": [
            "Epoch 4/10\n",
            "282/282 [==============================] - 45s 157ms/step - loss: 0.2541 - accuracy: 0.9086 - val_loss: 0.2410 - val_accuracy: 0.9060\n",
            "Epoch 5/10\n",
            "282/282 [==============================] - 28s 100ms/step - loss: 0.1630 - accuracy: 0.9426 - val_loss: 0.2379 - val_accuracy: 0.9140\n",
            "Epoch 6/10\n",
            "282/282 [==============================] - 28s 100ms/step - loss: 0.1003 - accuracy: 0.9668 - val_loss: 0.2657 - val_accuracy: 0.9150\n",
            "Epoch 7/10\n",
            "282/282 [==============================] - 30s 106ms/step - loss: 0.0592 - accuracy: 0.9797 - val_loss: 0.3343 - val_accuracy: 0.9020\n",
            "Epoch 8/10\n",
            "282/282 [==============================] - 30s 107ms/step - loss: 0.0370 - accuracy: 0.9900 - val_loss: 0.3505 - val_accuracy: 0.9120\n",
            "Epoch 9/10\n",
            "282/282 [==============================] - 28s 100ms/step - loss: 0.0168 - accuracy: 0.9963 - val_loss: 0.3846 - val_accuracy: 0.9070\n",
            "Epoch 10/10\n",
            "282/282 [==============================] - 28s 100ms/step - loss: 0.0101 - accuracy: 0.9981 - val_loss: 0.4490 - val_accuracy: 0.9110\n"
          ]
        },
        {
          "output_type": "execute_result",
          "data": {
            "text/plain": [
              "<keras.callbacks.History at 0x7f27894111d0>"
            ]
          },
          "metadata": {},
          "execution_count": 89
        }
      ],
      "source": [
        "model.fit(test_df,test_labl,\n",
        "          epochs=10,\n",
        "          validation_split=0.1,initial_epoch=3)"
      ]
    },
    {
      "cell_type": "code",
      "execution_count": null,
      "metadata": {
        "id": "1QgoWFjOCeQN",
        "colab": {
          "base_uri": "https://localhost:8080/"
        },
        "outputId": "95131a1a-f281-41cc-a5c4-0c08eeef44c2"
      },
      "outputs": [
        {
          "output_type": "stream",
          "name": "stdout",
          "text": [
            "Feature importance: \n"
          ]
        },
        {
          "output_type": "execute_result",
          "data": {
            "text/plain": [
              "array([['meanfreq', '0.0'],\n",
              "       ['sd', '0.021604086622251634'],\n",
              "       ['median', '0.0'],\n",
              "       ['Q25', '0.21352940476075918'],\n",
              "       ['Q75', '0.12135263076366706'],\n",
              "       ['IQR', '0.0'],\n",
              "       ['skew', '0.026165465857987884'],\n",
              "       ['kurt', '0.0'],\n",
              "       ['sp.ent', '0.2053366232048967'],\n",
              "       ['sfm', '0.10188095424229361'],\n",
              "       ['mode', '0.08865775579656465'],\n",
              "       ['centroid', '0.0'],\n",
              "       ['meanfun', '0.0'],\n",
              "       ['minfun', '0.0'],\n",
              "       ['maxfun', '0.011992505184911116'],\n",
              "       ['meandom', '0.20948057356666822'],\n",
              "       ['mindom', '0.0'],\n",
              "       ['maxdom', '0.0'],\n",
              "       ['dfrange', '0.0'],\n",
              "       ['modindx', '0.0']], dtype='<U32')"
            ]
          },
          "metadata": {},
          "execution_count": 90
        }
      ],
      "source": [
        "print(\"Feature importance: \")\n",
        "np.array([X.columns.values.tolist(), list(DTC_model.feature_importances_)]).T"
      ]
    },
    {
      "cell_type": "code",
      "execution_count": null,
      "metadata": {
        "id": "r38d2OrFCmvD",
        "colab": {
          "base_uri": "https://localhost:8080/"
        },
        "outputId": "e3e66fe6-aeb5-44b3-9f0d-a649e2ff8871"
      },
      "outputs": [
        {
          "output_type": "stream",
          "name": "stdout",
          "text": [
            "Feature importance: \n"
          ]
        },
        {
          "output_type": "execute_result",
          "data": {
            "text/plain": [
              "array([['meanfreq', '0.030460660042063777'],\n",
              "       ['sd', '0.05328335737272206'],\n",
              "       ['median', '0.04505902048391497'],\n",
              "       ['Q25', '0.05372329226799229'],\n",
              "       ['Q75', '0.053589645989000734'],\n",
              "       ['IQR', '0.059852040863398646'],\n",
              "       ['skew', '0.04155874042265135'],\n",
              "       ['kurt', '0.028523027845753973'],\n",
              "       ['sp.ent', '0.06433139380337508'],\n",
              "       ['sfm', '0.05285615580725091'],\n",
              "       ['mode', '0.07421937506610501'],\n",
              "       ['centroid', '0.03530306214751998'],\n",
              "       ['meanfun', '0.062490585989443445'],\n",
              "       ['minfun', '0.0550164488880298'],\n",
              "       ['maxfun', '0.017580738688025798'],\n",
              "       ['meandom', '0.09878027187835248'],\n",
              "       ['mindom', '0.028695315709203674'],\n",
              "       ['maxdom', '0.04196981431061111'],\n",
              "       ['dfrange', '0.045125754349181084'],\n",
              "       ['modindx', '0.057581298075403936']], dtype='<U32')"
            ]
          },
          "metadata": {},
          "execution_count": 91
        }
      ],
      "source": [
        "print(\"Feature importance: \")\n",
        "np.array([X.columns.values.tolist(), list(RFC_model.feature_importances_)]).T"
      ]
    },
    {
      "cell_type": "code",
      "execution_count": null,
      "metadata": {
        "id": "eaqXIAHXCx4T",
        "colab": {
          "base_uri": "https://localhost:8080/",
          "height": 237
        },
        "outputId": "98241f87-6277-447c-f0a3-a13d79d2067c"
      },
      "outputs": [
        {
          "output_type": "execute_result",
          "data": {
            "text/plain": [
              "                      Model                       Training Accuracy  \\\n",
              "0                       SVM                                0.681351   \n",
              "1  Random Forest Classifier                                0.994126   \n",
              "2  Decision Tree Classifier                                 0.64464   \n",
              "3       Logistic Regression  LogisticRegression(solver='liblinear')   \n",
              "4            Knn Neighbours    KNeighborsClassifier(n_neighbors=15)   \n",
              "5      Gaussian Classifiers                            GaussianNB()   \n",
              "\n",
              "   Validation Accuracy  \n",
              "0             0.504386  \n",
              "1             0.561404  \n",
              "2             0.486842  \n",
              "3             0.543319  \n",
              "4             0.515419  \n",
              "5             0.493392  "
            ],
            "text/html": [
              "\n",
              "  <div id=\"df-fabe0cfe-347a-4803-8b93-7d98b0eefba0\">\n",
              "    <div class=\"colab-df-container\">\n",
              "      <div>\n",
              "<style scoped>\n",
              "    .dataframe tbody tr th:only-of-type {\n",
              "        vertical-align: middle;\n",
              "    }\n",
              "\n",
              "    .dataframe tbody tr th {\n",
              "        vertical-align: top;\n",
              "    }\n",
              "\n",
              "    .dataframe thead th {\n",
              "        text-align: right;\n",
              "    }\n",
              "</style>\n",
              "<table border=\"1\" class=\"dataframe\">\n",
              "  <thead>\n",
              "    <tr style=\"text-align: right;\">\n",
              "      <th></th>\n",
              "      <th>Model</th>\n",
              "      <th>Training Accuracy</th>\n",
              "      <th>Validation Accuracy</th>\n",
              "    </tr>\n",
              "  </thead>\n",
              "  <tbody>\n",
              "    <tr>\n",
              "      <th>0</th>\n",
              "      <td>SVM</td>\n",
              "      <td>0.681351</td>\n",
              "      <td>0.504386</td>\n",
              "    </tr>\n",
              "    <tr>\n",
              "      <th>1</th>\n",
              "      <td>Random Forest Classifier</td>\n",
              "      <td>0.994126</td>\n",
              "      <td>0.561404</td>\n",
              "    </tr>\n",
              "    <tr>\n",
              "      <th>2</th>\n",
              "      <td>Decision Tree Classifier</td>\n",
              "      <td>0.64464</td>\n",
              "      <td>0.486842</td>\n",
              "    </tr>\n",
              "    <tr>\n",
              "      <th>3</th>\n",
              "      <td>Logistic Regression</td>\n",
              "      <td>LogisticRegression(solver='liblinear')</td>\n",
              "      <td>0.543319</td>\n",
              "    </tr>\n",
              "    <tr>\n",
              "      <th>4</th>\n",
              "      <td>Knn Neighbours</td>\n",
              "      <td>KNeighborsClassifier(n_neighbors=15)</td>\n",
              "      <td>0.515419</td>\n",
              "    </tr>\n",
              "    <tr>\n",
              "      <th>5</th>\n",
              "      <td>Gaussian Classifiers</td>\n",
              "      <td>GaussianNB()</td>\n",
              "      <td>0.493392</td>\n",
              "    </tr>\n",
              "  </tbody>\n",
              "</table>\n",
              "</div>\n",
              "      <button class=\"colab-df-convert\" onclick=\"convertToInteractive('df-fabe0cfe-347a-4803-8b93-7d98b0eefba0')\"\n",
              "              title=\"Convert this dataframe to an interactive table.\"\n",
              "              style=\"display:none;\">\n",
              "        \n",
              "  <svg xmlns=\"http://www.w3.org/2000/svg\" height=\"24px\"viewBox=\"0 0 24 24\"\n",
              "       width=\"24px\">\n",
              "    <path d=\"M0 0h24v24H0V0z\" fill=\"none\"/>\n",
              "    <path d=\"M18.56 5.44l.94 2.06.94-2.06 2.06-.94-2.06-.94-.94-2.06-.94 2.06-2.06.94zm-11 1L8.5 8.5l.94-2.06 2.06-.94-2.06-.94L8.5 2.5l-.94 2.06-2.06.94zm10 10l.94 2.06.94-2.06 2.06-.94-2.06-.94-.94-2.06-.94 2.06-2.06.94z\"/><path d=\"M17.41 7.96l-1.37-1.37c-.4-.4-.92-.59-1.43-.59-.52 0-1.04.2-1.43.59L10.3 9.45l-7.72 7.72c-.78.78-.78 2.05 0 2.83L4 21.41c.39.39.9.59 1.41.59.51 0 1.02-.2 1.41-.59l7.78-7.78 2.81-2.81c.8-.78.8-2.07 0-2.86zM5.41 20L4 18.59l7.72-7.72 1.47 1.35L5.41 20z\"/>\n",
              "  </svg>\n",
              "      </button>\n",
              "      \n",
              "  <style>\n",
              "    .colab-df-container {\n",
              "      display:flex;\n",
              "      flex-wrap:wrap;\n",
              "      gap: 12px;\n",
              "    }\n",
              "\n",
              "    .colab-df-convert {\n",
              "      background-color: #E8F0FE;\n",
              "      border: none;\n",
              "      border-radius: 50%;\n",
              "      cursor: pointer;\n",
              "      display: none;\n",
              "      fill: #1967D2;\n",
              "      height: 32px;\n",
              "      padding: 0 0 0 0;\n",
              "      width: 32px;\n",
              "    }\n",
              "\n",
              "    .colab-df-convert:hover {\n",
              "      background-color: #E2EBFA;\n",
              "      box-shadow: 0px 1px 2px rgba(60, 64, 67, 0.3), 0px 1px 3px 1px rgba(60, 64, 67, 0.15);\n",
              "      fill: #174EA6;\n",
              "    }\n",
              "\n",
              "    [theme=dark] .colab-df-convert {\n",
              "      background-color: #3B4455;\n",
              "      fill: #D2E3FC;\n",
              "    }\n",
              "\n",
              "    [theme=dark] .colab-df-convert:hover {\n",
              "      background-color: #434B5C;\n",
              "      box-shadow: 0px 1px 3px 1px rgba(0, 0, 0, 0.15);\n",
              "      filter: drop-shadow(0px 1px 2px rgba(0, 0, 0, 0.3));\n",
              "      fill: #FFFFFF;\n",
              "    }\n",
              "  </style>\n",
              "\n",
              "      <script>\n",
              "        const buttonEl =\n",
              "          document.querySelector('#df-fabe0cfe-347a-4803-8b93-7d98b0eefba0 button.colab-df-convert');\n",
              "        buttonEl.style.display =\n",
              "          google.colab.kernel.accessAllowed ? 'block' : 'none';\n",
              "\n",
              "        async function convertToInteractive(key) {\n",
              "          const element = document.querySelector('#df-fabe0cfe-347a-4803-8b93-7d98b0eefba0');\n",
              "          const dataTable =\n",
              "            await google.colab.kernel.invokeFunction('convertToInteractive',\n",
              "                                                     [key], {});\n",
              "          if (!dataTable) return;\n",
              "\n",
              "          const docLinkHtml = 'Like what you see? Visit the ' +\n",
              "            '<a target=\"_blank\" href=https://colab.research.google.com/notebooks/data_table.ipynb>data table notebook</a>'\n",
              "            + ' to learn more about interactive tables.';\n",
              "          element.innerHTML = '';\n",
              "          dataTable['output_type'] = 'display_data';\n",
              "          await google.colab.output.renderOutput(dataTable, element);\n",
              "          const docLink = document.createElement('div');\n",
              "          docLink.innerHTML = docLinkHtml;\n",
              "          element.appendChild(docLink);\n",
              "        }\n",
              "      </script>\n",
              "    </div>\n",
              "  </div>\n",
              "  "
            ]
          },
          "metadata": {},
          "execution_count": 92
        }
      ],
      "source": [
        "result = pd.DataFrame(model_acc, columns=['Model', 'Training Accuracy', 'Validation Accuracy'])\n",
        "result[['Model', 'Training Accuracy', 'Validation Accuracy']]"
      ]
    }
  ]
}